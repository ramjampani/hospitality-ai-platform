{
 "cells": [
  {
   "cell_type": "code",
   "execution_count": 1,
   "id": "be618795-3c4c-4d6d-8271-84254db5f6aa",
   "metadata": {},
   "outputs": [],
   "source": [
    "import pandas as pd\n",
    "from sklearn.ensemble import RandomForestClassifier\n",
    "from sklearn.model_selection import train_test_split\n",
    "from sklearn.metrics import classification_report\n",
    "import os\n",
    "\n"
   ]
  },
  {
   "cell_type": "code",
   "execution_count": 2,
   "id": "2d9f0a67-960e-457b-921c-dfb1f75fa572",
   "metadata": {},
   "outputs": [],
   "source": [
    "def load_data():\n",
    "    df = pd.read_csv(\"data/reservations.csv\", parse_dates=[\"booking_date\", \"checkin_date\"])\n",
    "    df[\"days_until_checkin\"] = (df[\"checkin_date\"] - df[\"booking_date\"]).dt.days\n",
    "    df[\"room_type_encoded\"] = df[\"room_type\"].astype(\"category\").cat.codes\n",
    "    return df\n",
    "\n"
   ]
  },
  {
   "cell_type": "code",
   "execution_count": null,
   "id": "8782f5c7-0316-4c9a-86fe-4ceb9a719903",
   "metadata": {},
   "outputs": [],
   "source": []
  },
  {
   "cell_type": "code",
   "execution_count": 7,
   "id": "b5c5ed5c-662d-473c-9662-5b609452ab40",
   "metadata": {},
   "outputs": [],
   "source": [
    "def train_model(df, target_column):\n",
    "    features = df[[\"lead_time\", \"num_guests\", \"days_until_checkin\", \"room_type_encoded\"]]\n",
    "    labels = df[target_column]\n",
    "    X_train, X_test, y_train, y_test = train_test_split(features, labels, test_size=0.2, random_state=42)\n",
    "    clf = RandomForestClassifier(n_estimators=100, random_state=42)\n",
    "    clf.fit(X_train, y_train)\n",
    "    y_pred = clf.predict(X_test)\n",
    "    print(f\"✅ {target_column.upper()} Prediction Report\")\n",
    "    print(classification_report(y_test, y_pred))\n",
    "\n"
   ]
  },
  {
   "cell_type": "code",
   "execution_count": null,
   "id": "9aef0411-511b-4a67-9a27-a4f8a47b72f0",
   "metadata": {},
   "outputs": [],
   "source": []
  },
  {
   "cell_type": "code",
   "execution_count": 8,
   "id": "4af439eb-df65-43b0-9ec6-972110c46ad8",
   "metadata": {},
   "outputs": [
    {
     "name": "stdout",
     "output_type": "stream",
     "text": [
      "✅ CANCELED Prediction Report\n",
      "              precision    recall  f1-score   support\n",
      "\n",
      "           0       0.85      1.00      0.92     13831\n",
      "           1       0.00      0.00      0.00      2411\n",
      "\n",
      "    accuracy                           0.85     16242\n",
      "   macro avg       0.43      0.50      0.46     16242\n",
      "weighted avg       0.73      0.85      0.78     16242\n",
      "\n",
      "✅ NO_SHOW Prediction Report\n",
      "              precision    recall  f1-score   support\n",
      "\n",
      "           0       0.96      1.00      0.98     15524\n",
      "           1       0.00      0.00      0.00       718\n",
      "\n",
      "    accuracy                           0.96     16242\n",
      "   macro avg       0.48      0.50      0.49     16242\n",
      "weighted avg       0.91      0.96      0.93     16242\n",
      "\n"
     ]
    }
   ],
   "source": [
    "def main():\n",
    "    df = load_data()\n",
    "    train_model(df, \"canceled\")\n",
    "    train_model(df, \"no_show\")\n",
    "\n",
    "if __name__ == \"__main__\":\n",
    "    main()"
   ]
  }
 ],
 "metadata": {
  "kernelspec": {
   "display_name": "Python 3 (ipykernel)",
   "language": "python",
   "name": "python3"
  },
  "language_info": {
   "codemirror_mode": {
    "name": "ipython",
    "version": 3
   },
   "file_extension": ".py",
   "mimetype": "text/x-python",
   "name": "python",
   "nbconvert_exporter": "python",
   "pygments_lexer": "ipython3",
   "version": "3.12.7"
  }
 },
 "nbformat": 4,
 "nbformat_minor": 5
}
